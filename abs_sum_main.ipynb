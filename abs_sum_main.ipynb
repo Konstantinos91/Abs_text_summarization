{
 "cells": [
  {
   "cell_type": "code",
   "execution_count": 1,
   "metadata": {},
   "outputs": [],
   "source": [
    "# Part of this code is based on a PyTorch tutorial found here: \n",
    "# https://pytorch.org/tutorials/intermediate/seq2seq_translation_tutorial.html\n",
    "\n",
    "# Many alterations and important additions have been made for the goal of this thesis by its author\n",
    "# Author: Konstantinos Papadopoulos\n",
    "\n",
    "from __future__ import unicode_literals, print_function, division\n",
    "from io import open\n",
    "import unicodedata\n",
    "import string\n",
    "import re\n",
    "import random\n",
    "import numpy as np\n",
    "\n",
    "import torch\n",
    "import torch.nn as nn\n",
    "from torch import optim\n",
    "import torch.nn.functional as F\n",
    "import torchtext.vocab as vocab\n",
    "\n",
    "# switch between CPU and CUDA\n",
    "device = torch.device(\"cuda\" if torch.cuda.is_available() else \"cpu\")"
   ]
  },
  {
   "cell_type": "code",
   "execution_count": 2,
   "metadata": {},
   "outputs": [],
   "source": [
    "from __future__ import print_function\n",
    "\n",
    "import pandas as pd\n",
    "import numpy as np\n",
    "from sklearn.model_selection import train_test_split \n",
    "\n",
    "import nltk\n",
    "from config import fit_text"
   ]
  },
  {
   "cell_type": "code",
   "execution_count": 3,
   "metadata": {},
   "outputs": [],
   "source": [
    "# read csv file\n",
    "df = pd.read_csv('fake_or_real_news.csv') "
   ]
  },
  {
   "cell_type": "code",
   "execution_count": 4,
   "metadata": {},
   "outputs": [],
   "source": [
    "np.random.seed(10)\n",
    "df.title = 'sos ' + df.title + ' eos'\n",
    "\n",
    "Y = df.title\n",
    "X = df['text']\n",
    "\n",
    "# split data into random train and test subsets (20% for testing, 80% for training)\n",
    "X_train, X_test, Y_train, Y_test = train_test_split(X, Y, test_size=0.2, random_state=10)"
   ]
  },
  {
   "cell_type": "code",
   "execution_count": 5,
   "metadata": {},
   "outputs": [],
   "source": [
    "config = fit_text(X, Y)"
   ]
  },
  {
   "cell_type": "code",
   "execution_count": 6,
   "metadata": {},
   "outputs": [
    {
     "data": {
      "text/plain": [
       "u'republicans'"
      ]
     },
     "execution_count": 6,
     "metadata": {},
     "output_type": "execute_result"
    }
   ],
   "source": [
    "config['target_word2idx']['republicans']\n",
    "config['target_idx2word'][79]"
   ]
  },
  {
   "cell_type": "markdown",
   "metadata": {},
   "source": [
    "# Use GloVe for training"
   ]
  },
  {
   "cell_type": "code",
   "execution_count": 7,
   "metadata": {},
   "outputs": [],
   "source": [
    "class NewVocab:\n",
    "    def __init__(self, name):\n",
    "        self.name = name\n",
    "        self.word2index = {}\n",
    "        # how many times a word appears\n",
    "        self.word2count = {}\n",
    "        self.index2word = {}\n",
    "        # index\n",
    "        self.n_words = 0  \n",
    "\n",
    "    def addWord(self, word):\n",
    "        if word not in self.word2index:\n",
    "            self.word2index[word] = self.n_words\n",
    "            self.word2count[word] = 1\n",
    "            self.index2word[self.n_words] = word\n",
    "            self.n_words += 1\n",
    "        else:\n",
    "            self.word2count[word] += 1"
   ]
  },
  {
   "cell_type": "code",
   "execution_count": 8,
   "metadata": {},
   "outputs": [],
   "source": [
    "input_vocab = NewVocab('input')\n",
    "input_vocab.word2index = config['input_word2idx']\n",
    "input_vocab.index2word = config['input_idx2word']\n",
    "input_vocab.n_words = config['num_input_tokens']"
   ]
  },
  {
   "cell_type": "code",
   "execution_count": 9,
   "metadata": {},
   "outputs": [],
   "source": [
    "output_vocab = NewVocab('output')\n",
    "output_vocab.word2index = config['target_word2idx']\n",
    "output_vocab.index2word = config['target_idx2word']\n",
    "output_vocab.n_words = config['num_target_tokens']"
   ]
  },
  {
   "cell_type": "code",
   "execution_count": 10,
   "metadata": {},
   "outputs": [
    {
     "data": {
      "text/plain": [
       "tensor([-0.3371, -0.2169, -0.0066, -0.4162, -1.2555, -0.0285, -0.7219, -0.5289,\n",
       "         0.0072,  0.3200,  0.0294, -0.0132,  0.4351,  0.2572,  0.3900, -0.1197,\n",
       "         0.1504,  0.4476,  0.2841,  0.4934,  0.6283,  0.2289, -0.4038,  0.0274,\n",
       "         0.0074,  0.1400,  0.2335,  0.0681,  0.4842, -0.0196, -0.5475, -0.5498,\n",
       "        -0.0341,  0.0080, -0.4306, -0.0190, -0.0857, -0.8112, -0.2108,  0.3778,\n",
       "        -0.3505,  0.1368, -0.5566,  0.1683, -0.2295, -0.1618,  0.6734, -0.4660,\n",
       "        -0.0318, -0.2604, -0.1780,  0.0194,  0.1073,  0.6653, -0.3484,  0.0478,\n",
       "         0.1644,  0.1409,  0.1920, -0.3501,  0.2624,  0.1763, -0.3137,  0.1171,\n",
       "         0.2038,  0.6177,  0.4908, -0.0752, -0.1182,  0.1868,  0.4068,  0.2832,\n",
       "        -0.1629,  0.0384,  0.4379,  0.0882,  0.5905, -0.0535,  0.0388,  0.1820,\n",
       "        -0.2760,  0.3947, -0.2050,  0.1741,  0.1032,  0.2512, -0.3654,  0.3653,\n",
       "         0.2245, -0.9755,  0.0945, -0.1786, -0.3069, -0.5863, -0.1853,  0.0396,\n",
       "        -0.4231, -0.1572,  0.2040,  0.1691,  0.3447, -0.4226,  0.1955,  0.5945,\n",
       "        -0.3053, -0.1063, -0.1905, -0.5854,  0.2136,  0.3841,  0.0915,  0.3835,\n",
       "         0.2907,  0.0245,  0.2844,  0.0637, -0.1548,  0.4003,  0.3154, -0.0371,\n",
       "         0.0634, -0.2709,  0.2516,  0.4710,  0.4956, -0.3640,  0.1037,  0.0461,\n",
       "         0.1656, -0.2902, -0.0669, -0.3088,  0.4826,  0.3097, -0.1115, -0.1033,\n",
       "         0.0286, -0.1358,  0.5292, -0.1408,  0.0918,  0.1313, -0.2094,  0.0223,\n",
       "        -0.0777,  0.0779, -0.0331,  0.1168,  0.3203,  0.3775, -0.7568, -0.1594,\n",
       "         0.1496,  0.4225,  0.0028,  0.2133,  0.0868, -0.0527, -0.4086, -0.1177,\n",
       "         0.0906, -0.2379, -0.1833,  0.1312, -0.5595,  0.0921, -0.0395,  0.1333,\n",
       "         0.4963,  0.2873, -0.1854,  0.0246, -0.4283,  0.0741,  0.0008,  0.2395,\n",
       "         0.2262,  0.0552, -0.0751, -0.2231,  0.2377, -0.4545,  0.2656, -0.1514,\n",
       "        -0.2415, -0.2474,  0.5521,  0.2682,  0.4883, -0.1342, -0.1592,  0.3761,\n",
       "        -0.1983,  0.1670, -0.1537,  0.2456, -0.0925, -0.3026, -0.2949, -0.7492,\n",
       "         1.0567,  0.3797,  0.6931, -0.0317,  0.2159, -0.4074, -0.1526,  0.3230,\n",
       "        -0.1300, -0.5013, -0.4423,  0.0169, -0.0115,  0.0072,  0.1103,  0.2157,\n",
       "        -0.3237, -0.3729, -0.0092, -0.2677,  0.3907,  0.3574, -0.0606,  0.0680,\n",
       "         0.3383,  0.0657,  0.1579,  0.0472,  0.2368, -0.0914,  0.6465, -0.2549,\n",
       "        -0.6794, -0.6975, -0.1015, -0.3625,  0.3697, -0.4130,  0.0827, -0.3505,\n",
       "        -0.1756,  0.0851, -0.5772,  0.5025,  0.5218,  0.0573, -0.7975, -0.3777,\n",
       "         0.7815,  0.2460,  0.6067, -0.2008, -0.3879,  0.4130, -0.1614,  0.0104,\n",
       "         0.4320,  0.0046,  0.2119, -0.2661, -0.0587, -0.5100,  0.2852,  0.0136,\n",
       "        -0.2735,  0.0618, -0.5790, -0.5114,  0.3638,  0.3514, -0.1650, -0.4604,\n",
       "        -0.0647, -0.6831, -0.0474,  0.1586, -0.4729,  0.3397,  0.0012,  0.1602,\n",
       "        -0.5802,  0.1456, -0.9132, -0.3759, -0.3295,  0.5347,  0.1822, -0.5227,\n",
       "        -0.2621, -0.4246, -0.1803,  0.0995, -0.1511, -0.6673,  0.2448, -0.5663,\n",
       "         0.3384,  0.4056,  0.1807,  0.6425])"
      ]
     },
     "execution_count": 10,
     "metadata": {},
     "output_type": "execute_result"
    }
   ],
   "source": [
    "glove = vocab.GloVe(name='6B', dim=300) # I selected 100 dimensional array\n",
    "\n",
    "print('Loaded {} words'.format(len(glove.itos))) # itos = index-to-string\n",
    "# returns the 300 dimensional embedding \n",
    "def get_word(word):\n",
    "    return glove.vectors[glove.stoi[word]].to(device) # stoi = string-to-index\n",
    "\n",
    "get_word('hello')"
   ]
  },
  {
   "cell_type": "code",
   "execution_count": 11,
   "metadata": {},
   "outputs": [],
   "source": [
    "from torch.autograd import Variable\n",
    "\n",
    "matrix_len = input_vocab.n_words\n",
    "weights_matrix = Variable(torch.Tensor(np.zeros((matrix_len, glove.dim))))\n",
    "words_found = 0\n",
    "\n",
    "for i, word in enumerate(input_vocab.index2word):\n",
    "    try: \n",
    "        weights_matrix[i] = Variable(torch.Tensor(glove[input_vocab.index2word[i]]))\n",
    "        words_found += 12\n",
    "    except KeyError:\n",
    "        weights_matrix[i] = Variable(torch.Tensor(np.random.normal(scale=0.6, size=(emb_dim, ))))"
   ]
  },
  {
   "cell_type": "code",
   "execution_count": 12,
   "metadata": {},
   "outputs": [],
   "source": [
    "matrix_len = output_vocab.n_words\n",
    "output_weights_matrix = Variable(torch.Tensor(np.zeros((matrix_len, glove.dim))))\n",
    "words_found = 0\n",
    "\n",
    "for i, word in enumerate(output_vocab.index2word):\n",
    "    try: \n",
    "        output_weights_matrix[i] = Variable(torch.Tensor(glove[output_vocab.index2word[i]]))\n",
    "        words_found += 1\n",
    "    except KeyError:\n",
    "        output_weights_matrix[i] = Variable(torch.Tensor(np.random.normal(scale=0.6, size=(emb_dim, ))))"
   ]
  },
  {
   "cell_type": "code",
   "execution_count": 13,
   "metadata": {},
   "outputs": [],
   "source": [
    "#PAD_token = 0\n",
    "SOS_token = 1\n",
    "EOS_token = 2"
   ]
  },
  {
   "cell_type": "markdown",
   "metadata": {},
   "source": [
    "# Preparing train-test data"
   ]
  },
  {
   "cell_type": "code",
   "execution_count": 14,
   "metadata": {},
   "outputs": [],
   "source": [
    "#####################################################################\n",
    "# The files are all in Unicode, to simplify we will turn Unicode\n",
    "# characters to ASCII, make everything lowercase, and trim most\n",
    "# punctuation.\n",
    "\n",
    "# Turn a Unicode string to plain ASCII, thanks to:\n",
    "# http://stackoverflow.com/a/518232/2809427\n",
    "\n",
    "def unicodeToAscii(s):\n",
    "    return ''.join(\n",
    "        c for c in unicodedata.normalize('NFD', s.decode('latin1'))\n",
    "        if unicodedata.category(c) != 'Mn'\n",
    "    )\n",
    "\n",
    "# Lowercase, trim, and remove non-letter characters\n",
    "\n",
    "from nltk.tokenize import TreebankWordTokenizer\n",
    "\n",
    "tokenizer = TreebankWordTokenizer()\n",
    "tokenizer.PUNCTUATION = [\n",
    "        (re.compile(r'([:,])([^\\d])'), r' \\1 \\2'),\n",
    "        (re.compile(r'([:,])$'), r' \\1 '),\n",
    "        (re.compile(r'\\.\\.\\.'), r' ... '),\n",
    "        (re.compile(r'\\#\\#\\#\\#'), r' #### '),\n",
    "        (re.compile(r'[;@$%&]'), r' \\g<0> '),\n",
    "        (re.compile(r'([^\\.])(\\.)([\\]\\)}>\"\\']*)\\s*$'), r'\\1 \\2\\3 '),  # Handles the final period.\n",
    "        (re.compile(r'[?!]'), r' \\g<0> '),\n",
    "\n",
    "        (re.compile(r\"([^'])' \"), r\"\\1 ' \"),\n",
    "    ]\n",
    "\n",
    "\n",
    "def normalizeString(s):\n",
    "    s = unicodeToAscii(s.lower().strip())\n",
    "    s = re.sub(r'\\([^)]*\\)', '', s)\n",
    "    s = re.sub(r'\\[[^)]*\\]', '', s)\n",
    "    s = re.sub('\\d',  r'#', s)\n",
    "    s = re.sub(\"’|‘|”|“|``\",  r\"'\", s)\n",
    "    #s = re.sub(r\"([.!?:&#'])\", r\" \\1\", s)\n",
    "    #s = re.sub(r\"[^a-zA-Z.!?:&#']+\", r\" \", s)\n",
    "    s = tokenizer.tokenize(text=s)\n",
    "    return s"
   ]
  },
  {
   "cell_type": "code",
   "execution_count": 15,
   "metadata": {},
   "outputs": [],
   "source": [
    "X_norm_train = [normalizeString(train) for train in X_train]\n",
    "X_norm_test = [normalizeString(test) for test in X_test]\n",
    "Y_norm_train = [normalizeString(train) for train in Y_train]\n",
    "Y_norm_test = [normalizeString(test) for test in Y_test]"
   ]
  },
  {
   "cell_type": "code",
   "execution_count": 16,
   "metadata": {},
   "outputs": [],
   "source": [
    "MAX_INPUT_LENGTH = 50\n",
    "MAX_OUTPUT_LENGTH = 50"
   ]
  },
  {
   "cell_type": "code",
   "execution_count": 17,
   "metadata": {},
   "outputs": [],
   "source": [
    "X_filter_train = [train[:MAX_INPUT_LENGTH] for train in X_norm_train]\n",
    "X_filter_test = [test[:MAX_INPUT_LENGTH] for test in X_norm_test]\n",
    "Y_filter_train = [train[:MAX_OUTPUT_LENGTH] for train in Y_norm_train]\n",
    "Y_filter_test = [test[:MAX_OUTPUT_LENGTH] for test in Y_norm_test]"
   ]
  },
  {
   "cell_type": "code",
   "execution_count": 18,
   "metadata": {},
   "outputs": [
    {
     "data": {
      "text/plain": [
       "10002"
      ]
     },
     "execution_count": 18,
     "metadata": {},
     "output_type": "execute_result"
    }
   ],
   "source": [
    "input_vocab.n_words"
   ]
  },
  {
   "cell_type": "code",
   "execution_count": 19,
   "metadata": {},
   "outputs": [
    {
     "data": {
      "text/plain": [
       "5001"
      ]
     },
     "execution_count": 19,
     "metadata": {},
     "output_type": "execute_result"
    }
   ],
   "source": [
    "output_vocab.n_words"
   ]
  },
  {
   "cell_type": "code",
   "execution_count": 20,
   "metadata": {},
   "outputs": [],
   "source": [
    "def indexesFromSample(vocab, sample):\n",
    "    #vocab.word2index[word]\n",
    "    #return [glove.stoi[word] if (word in glove.stoi) else (glove.stoi['unk']) for word in sample.split(' ')]\n",
    "    #print([vocab.word2index[word] if (word in vocab.word2index) else vocab.word2index['UNK'] for word in sample])\n",
    "    return [vocab.word2index[word] for word in sample if word in vocab.word2index]\n",
    "\n",
    "def tensorFromSample(vocab, sample):\n",
    "    indexes = indexesFromSample(vocab, sample)\n",
    "    #indexes.append(EOS_token)\n",
    "    return torch.tensor(indexes, dtype=torch.long, device=device).view(-1, 1)\n",
    "\n",
    "def tensorsFromPair(pair):\n",
    "    input_tensor = tensorFromSample(input_vocab, pair[0])\n",
    "    target_tensor = tensorFromSample(output_vocab, pair[1])\n",
    "    return (input_tensor, target_tensor)"
   ]
  },
  {
   "cell_type": "code",
   "execution_count": 21,
   "metadata": {},
   "outputs": [],
   "source": [
    "train_pairs = [[x,y] for x, y in zip(X_filter_train, Y_filter_train)]\n",
    "test_pairs = [[x,y] for x, y in zip(X_filter_test, Y_filter_test)]"
   ]
  },
  {
   "cell_type": "markdown",
   "metadata": {},
   "source": [
    "# Option #1 for Seq2Seq model: Unidirectional RNN with GRU"
   ]
  },
  {
   "cell_type": "code",
   "execution_count": 22,
   "metadata": {},
   "outputs": [],
   "source": [
    "#####################################################################\n",
    "# The Seq2Seq Model\n",
    "# Encoder\n",
    "# ^^^^^^^^^^^^^^^^^\n",
    "\n",
    "\n",
    "class EncoderRNN(nn.Module):\n",
    "    def __init__(self, input_size, hidden_size):\n",
    "        super(EncoderRNN, self).__init__()\n",
    "        # input_size = number of words in vocab, e.g., 400000\n",
    "        # hidden_size = dimension of embedding, e.g., 100\n",
    "        self.hidden_size = hidden_size\n",
    "        # stores embeddings of the dictionary \n",
    "        self.embedding = nn.Embedding(input_size, hidden_size)\n",
    "        \n",
    "        self.embedding.load_state_dict({'weight': weights_matrix})\n",
    "        self.embedding.weight.requires_grad = False\n",
    "        # applies a Gated Recurrent Unit (GRU) RNN\n",
    "        self.gru = nn.GRU(hidden_size, hidden_size)\n",
    "\n",
    "    def forward(self, input, hidden):\n",
    "        embedded = self.embedding(input).view(1, 1, -1)\n",
    "        output = embedded\n",
    "        #output = self.conv1d(output)\n",
    "        output, hidden = self.gru(output, hidden)\n",
    "        return output, hidden\n",
    "\n",
    "    def initHidden(self):\n",
    "        return torch.zeros(1, 1, self.hidden_size, device=device)"
   ]
  },
  {
   "cell_type": "code",
   "execution_count": 23,
   "metadata": {},
   "outputs": [],
   "source": [
    "#####################################################################\n",
    "# Attention Decoder\n",
    "# ^^^^^^^^^^^^^^^^^\n",
    "\n",
    "class AttnDecoderRNN(nn.Module):\n",
    "    def __init__(self, hidden_size, output_size, dropout_p=0.5, max_length=MAX_INPUT_LENGTH+1):\n",
    "        super(AttnDecoderRNN, self).__init__()\n",
    "        self.hidden_size = hidden_size\n",
    "        self.output_size = output_size\n",
    "        self.dropout_p = dropout_p\n",
    "        self.max_length = max_length\n",
    "\n",
    "        self.embedding = nn.Embedding(self.output_size, self.hidden_size)\n",
    "        self.embedding.load_state_dict({'weight': output_weights_matrix})\n",
    "        self.embedding.weight.requires_grad = False\n",
    "        \n",
    "        self.attn = nn.Linear(self.hidden_size * 2, self.max_length)\n",
    "        \n",
    "        self.attn_combine = nn.Linear(self.hidden_size * 2, self.hidden_size)\n",
    "        self.dropout = nn.Dropout(self.dropout_p)\n",
    "        self.gru = nn.GRU(self.hidden_size, self.hidden_size)\n",
    "        self.out = nn.Linear(self.hidden_size, self.output_size)\n",
    "\n",
    "    def forward(self, input, hidden, encoder_outputs):\n",
    "        embedded = self.embedding(input).view(1, 1, -1)\n",
    "        embedded = self.dropout(embedded)\n",
    "\n",
    "        attn_weights = F.softmax(\n",
    "            self.attn(torch.cat((embedded[0], hidden[0]), 1)), dim=1)\n",
    "        \n",
    "        # bmm = batched matrix multiplication\n",
    "        attn_applied = torch.bmm(attn_weights.unsqueeze(0),\n",
    "                                 encoder_outputs.unsqueeze(0))\n",
    "\n",
    "        output = torch.cat((embedded[0], attn_applied[0]), 1)\n",
    "        output = self.attn_combine(output).unsqueeze(0)\n",
    "\n",
    "        output = F.relu(output)\n",
    "        #print(output.shape, hidden.shape)\n",
    "        output, hidden = self.gru(output, hidden)\n",
    "\n",
    "        output = F.log_softmax(self.out(output[0]), dim=1)\n",
    "        return output, hidden, attn_weights\n",
    "\n",
    "    def initHidden(self):\n",
    "        return torch.zeros(1, 1, self.hidden_size, device=device)\n",
    "    \n",
    "\n",
    "########################## END OF OPTION 1 ##########################\n",
    "#####################################################################"
   ]
  },
  {
   "cell_type": "markdown",
   "metadata": {},
   "source": [
    "# Option #2 for Seq2Seq model: Bidirectional RNN with LSTM"
   ]
  },
  {
   "cell_type": "code",
   "execution_count": 22,
   "metadata": {},
   "outputs": [],
   "source": [
    "#####################################################################\n",
    "# The Seq2Seq Model\n",
    "# Encoder\n",
    "# ^^^^^^^^^^^^^^^^^\n",
    "\n",
    "\n",
    "class EncoderRNN(nn.Module):\n",
    "    def __init__(self, input_size, hidden_size):\n",
    "        super(EncoderRNN, self).__init__()\n",
    "        #input_size = number of words in vocab, e.g., 400000\n",
    "        #hidden_size = dimension of embedding, e.g., 100\n",
    "        self.hidden_size = hidden_size\n",
    "        self.embedding = nn.Embedding(input_size, hidden_size)\n",
    "        self.embedding.load_state_dict({'weight': weights_matrix})\n",
    "        self.embedding.weight.requires_grad = True\n",
    "        self.bilstm = nn.LSTM(hidden_size, hidden_size//2, bidirectional=True)\n",
    "\n",
    "    def forward(self, input, hidden):\n",
    "        embedded = self.embedding(input).view(1, 1, -1)\n",
    "        output = embedded\n",
    "        \n",
    "        output, hidden = self.bilstm(output, hidden)\n",
    "        return output, hidden\n",
    "\n",
    "    def initHidden(self):\n",
    "        return (torch.randn(2, 1, self.hidden_size//2, device=device),\n",
    "                torch.randn(2, 1, self.hidden_size//2, device=device))"
   ]
  },
  {
   "cell_type": "code",
   "execution_count": 23,
   "metadata": {},
   "outputs": [],
   "source": [
    "#####################################################################\n",
    "# Attention Decoder\n",
    "# ^^^^^^^^^^^^^^^^^\n",
    "\n",
    "\n",
    "class AttnDecoderRNN(nn.Module):\n",
    "    def __init__(self, hidden_size, output_size, dropout_p=0.5, max_length=MAX_OUTPUT_LENGTH+1):\n",
    "        super(AttnDecoderRNN, self).__init__()\n",
    "        self.hidden_size = hidden_size\n",
    "        self.output_size = output_size\n",
    "        self.dropout_p = dropout_p\n",
    "        self.max_length = max_length\n",
    "\n",
    "        self.embedding = nn.Embedding(self.output_size, self.hidden_size)\n",
    "        self.embedding.load_state_dict({'weight': output_weights_matrix})\n",
    "        self.embedding.weight.requires_grad = True\n",
    "        \n",
    "        self.attn = nn.Linear(self.hidden_size * 2, self.max_length, )\n",
    "        self.attn_combine = nn.Linear(self.hidden_size * 2, self.hidden_size)\n",
    "        self.dropout = nn.Dropout(self.dropout_p)\n",
    "        self.bilstm = nn.LSTM(self.hidden_size, self.hidden_size//2, bidirectional=True)\n",
    "        self.out = nn.Linear(self.hidden_size, self.output_size)\n",
    "\n",
    "    def forward(self, input, hidden, encoder_outputs):\n",
    "        embedded = self.embedding(input).view(1, 1, -1)\n",
    "        embedded = self.dropout(embedded)\n",
    "        #print(embedded[0].size(), hidden[0].unsqueeze(0).size())\n",
    "\n",
    "        attn_weights = F.softmax(\n",
    "            self.attn(torch.cat((embedded[0], hidden[0].view(1, -1)), 1)), dim=1)\n",
    "        \n",
    "        # bmm = batched matrix multiplication\n",
    "        attn_applied = torch.bmm(attn_weights.unsqueeze(0),\n",
    "                                 encoder_outputs.unsqueeze(0))\n",
    "\n",
    "        output = torch.cat((embedded[0], attn_applied[0]), 1)\n",
    "        output = self.attn_combine(output).unsqueeze(0)\n",
    "\n",
    "        output = F.relu(output)\n",
    "        \n",
    "        output, hidden = self.bilstm(output, hidden)\n",
    "\n",
    "        output = F.log_softmax(self.out(output[0]), dim=1)\n",
    "        return output, hidden, attn_weights\n",
    "\n",
    "    def initHidden(self):\n",
    "        return (torch.randn(2, 1, self.hidden_size//2, device=device),\n",
    "                torch.randn(2, 1, self.hidden_size//2, device=device))\n",
    "    \n",
    "\n",
    "########################## END OF OPTION 2 ##########################\n",
    "#####################################################################"
   ]
  },
  {
   "cell_type": "markdown",
   "metadata": {},
   "source": [
    "# Beam Search (additional option for the decoder)"
   ]
  },
  {
   "cell_type": "code",
   "execution_count": 24,
   "metadata": {},
   "outputs": [],
   "source": [
    "def beam_search(decoder,decoder_input, decoder_hidden, encoder_outputs, iters = 20, k = 3):\n",
    "    sequences = [[list(), 0.0]]\n",
    "    \n",
    "    # walk over each step in sequence\n",
    "    for d in range(iters):\n",
    "        #print('sequences',sequences)\n",
    "\n",
    "        all_candidates = list()\n",
    "        # expand each current candidate\n",
    "        #print(encoder_outputs)\n",
    "\n",
    "        for i in range(len(sequences)):\n",
    "            #print(sequences)\n",
    "            seq, log_probs = sequences[i]\n",
    "            if d >0:\n",
    "                decoder_input = seq[-1]\n",
    "            if decoder_input.item() == EOS_token:\n",
    "                continue\n",
    "            decoder_output, decoder_hidden, decoder_attention = decoder(decoder_input, decoder_hidden, encoder_outputs)\n",
    "            #decoder_attentions[di] = decoder_attention.data\n",
    "            topv, topi = decoder_output.data.topk(k)\n",
    "            \n",
    "            #decoded_words.append(input_text.index2word[topi.item()]) #glove.itos\n",
    "                #input_text.index2word\n",
    "\n",
    "            #decoder_input = topi.squeeze().detach()\n",
    "            #print(topv)\n",
    "            for j in range(k):\n",
    "                #print(topv[0][j])\n",
    "                candidate = [seq + [topi[0][j]], log_probs + (topv[0][j])]\n",
    "                #print('candidate', candidate)\n",
    "                all_candidates.append(candidate)\n",
    "                \n",
    "            # order all candidates by score\n",
    "            ordered = sorted(all_candidates, key=lambda tup:-tup[1])\n",
    "            #print(ordered)\n",
    "            # select k best\n",
    "            sequences = ordered[:k]\n",
    "    #print(sequences)    \n",
    "    return sequences"
   ]
  },
  {
   "cell_type": "code",
   "execution_count": 25,
   "metadata": {},
   "outputs": [],
   "source": [
    "######################################################################\n",
    "# Beam search evaluation\n",
    "# ^^^^^^^^^^^^^^^^^^^^^^\n",
    "\n",
    "\n",
    "def beam_evaluate(encoder, decoder, sentence, max_length=MAX_INPUT_LENGTH+1):\n",
    "    with torch.no_grad():\n",
    "        input_tensor = tensorFromSample(input_vocab, sentence)\n",
    "        input_length = input_tensor.size()[0]\n",
    "        encoder_hidden = encoder.initHidden()\n",
    "\n",
    "        encoder_outputs = torch.zeros(max_length, encoder.hidden_size, device=device)\n",
    "\n",
    "        for ei in range(input_length):\n",
    "            encoder_output, encoder_hidden = encoder(input_tensor[ei],\n",
    "                                                     encoder_hidden)\n",
    "            encoder_outputs[ei] += encoder_output[0, 0]\n",
    "\n",
    "        decoder_input = torch.tensor([[SOS_token]], device=device)  # SOS\n",
    "\n",
    "        decoder_hidden = encoder_hidden\n",
    "\n",
    "        decoded_words = []\n",
    "        decoder_attentions = torch.zeros(max_length, max_length)\n",
    "        \n",
    "        best = beam_search(decoder,decoder_input, decoder_hidden, encoder_outputs, 15, 3)\n",
    "        \n",
    "        for i in best[0][0]:\n",
    "            decoded_words.append(output_vocab.index2word[i.item()])\n",
    "\n",
    "        return decoded_words#, decoder_attentions[:di + 1]"
   ]
  },
  {
   "cell_type": "markdown",
   "metadata": {},
   "source": [
    "# Training"
   ]
  },
  {
   "cell_type": "code",
   "execution_count": 24,
   "metadata": {},
   "outputs": [],
   "source": [
    "teacher_forcing_ratio = 0.2\n",
    "\n",
    "def train(input_tensor,target_tensor,encoder,decoder,encoder_optimizer,decoder_optimizer,criterion,max_length=MAX_INPUT_LENGTH+1):\n",
    "    encoder_hidden = encoder.initHidden()\n",
    "\n",
    "    encoder_optimizer.zero_grad()\n",
    "    decoder_optimizer.zero_grad()\n",
    "\n",
    "    input_length = input_tensor.size(0)\n",
    "    target_length = target_tensor.size(0)\n",
    "\n",
    "    encoder_outputs = torch.zeros(max_length, encoder.hidden_size, device=device)\n",
    "\n",
    "    loss = 0\n",
    "    \n",
    "    #print(input_tensor.size())\n",
    "\n",
    "    #if input_length>20\n",
    "    for ei in range(input_length):\n",
    "        #print(ei)\n",
    "        encoder_output, encoder_hidden = encoder(\n",
    "            input_tensor[ei], encoder_hidden)\n",
    "        encoder_outputs[ei] = encoder_output[0, 0]\n",
    "\n",
    "    decoder_input = torch.tensor([[SOS_token]], device=device)\n",
    "\n",
    "    decoder_hidden = encoder_hidden\n",
    "    \n",
    "    use_teacher_forcing = True if random.random() < teacher_forcing_ratio else False\n",
    "\n",
    "    \n",
    "    if use_teacher_forcing:\n",
    "        # Teacher forcing: Feed the target as the next input\n",
    "        for di in range(target_length):\n",
    "            decoder_output, decoder_hidden, decoder_attention = decoder(\n",
    "                decoder_input, decoder_hidden, encoder_outputs)\n",
    "            loss += criterion(decoder_output, target_tensor[di])\n",
    "            decoder_input = target_tensor[di]  # Teacher forcing\n",
    "    \n",
    "    else:   \n",
    "        for di in range(target_length):\n",
    "            decoder_output, decoder_hidden, decoder_attention = decoder(\n",
    "                decoder_input, decoder_hidden, encoder_outputs)\n",
    "            topv, topi = decoder_output.topk(1)\n",
    "            decoder_input = topi.squeeze().detach()  # detach from history as input\n",
    "\n",
    "            loss += criterion(decoder_output, target_tensor[di])\n",
    "            if decoder_input.item() == EOS_token:\n",
    "                break\n",
    "\n",
    "    loss.backward()\n",
    "\n",
    "    encoder_optimizer.step()\n",
    "    decoder_optimizer.step()\n",
    "\n",
    "    return loss.item() / target_length"
   ]
  },
  {
   "cell_type": "code",
   "execution_count": 25,
   "metadata": {},
   "outputs": [],
   "source": [
    "#####################################################################\n",
    "# This is a helper function to print time elapsed and estimated time\n",
    "# remaining given the current time and progress %.\n",
    "\n",
    "import time\n",
    "import math\n",
    "\n",
    "\n",
    "def asMinutes(s):\n",
    "    m = math.floor(s / 60)\n",
    "    s -= m * 60\n",
    "    return '%dm %ds' % (m, s)\n",
    "\n",
    "\n",
    "def timeSince(since, percent):\n",
    "    now = time.time()\n",
    "    s = now - since\n",
    "    es = s / (percent)\n",
    "    rs = es - s\n",
    "    return '%s (- %s)' % (asMinutes(s), asMinutes(rs))"
   ]
  },
  {
   "cell_type": "code",
   "execution_count": 26,
   "metadata": {},
   "outputs": [],
   "source": [
    "def trainIters(encoder, decoder, n_iters, print_every=1000, plot_every=1000, learning_rate=0.001, reduce = 10000*6):\n",
    "    start = time.time()\n",
    "    plot_losses = []\n",
    "    print_loss_total = 0  # Reset every print_every\n",
    "    plot_loss_total = 0  # Reset every plot_every\n",
    "\n",
    "    encoder_optimizer = optim.Adam(filter(lambda p: p.requires_grad,encoder.parameters()), lr=learning_rate)\n",
    "    decoder_optimizer = optim.Adam(filter(lambda p: p.requires_grad,decoder.parameters()), lr=learning_rate)\n",
    "    training_pairs = [tensorsFromPair(random.choice(train_pairs)) for i in range(n_iters)]#,size=64\n",
    "    \n",
    "    #print(training_pairs[0],training_pairs[1])\n",
    "    criterion = nn.NLLLoss()\n",
    "\n",
    "    for iter in range(1, n_iters + 1):\n",
    "        training_pair = training_pairs[iter - 1]\n",
    "        input_tensor = training_pair[0]\n",
    "        target_tensor = training_pair[1]\n",
    "        \n",
    "        #print(input_tensor)\n",
    "        #print(target_tensor)\n",
    "\n",
    "        loss = train(input_tensor, target_tensor, encoder,\n",
    "                     decoder, encoder_optimizer, decoder_optimizer, criterion)\n",
    "        print_loss_total += loss\n",
    "        plot_loss_total += loss\n",
    "\n",
    "        if iter % print_every == 0:\n",
    "            print_loss_avg = print_loss_total / print_every\n",
    "            print_loss_total = 0\n",
    "            print('%s (%d %d%%) %.4f' % (timeSince(start, iter / n_iters),\n",
    "                                         iter, iter / n_iters * 100, print_loss_avg))\n",
    "        if iter % reduce == 0:\n",
    "            learning_rate /= 2\n",
    "            print('lr was reduced to: ', learning_rate)\n",
    "            encoder_optimizer = optim.Adam(filter(lambda p: p.requires_grad,encoder.parameters()), lr=learning_rate)\n",
    "            decoder_optimizer = optim.Adam(filter(lambda p: p.requires_grad,decoder.parameters()), lr=learning_rate)\n",
    "\n",
    "        if iter % plot_every == 0:\n",
    "            plot_loss_avg = plot_loss_total / plot_every\n",
    "            plot_losses.append(plot_loss_avg)\n",
    "            plot_loss_total = 0\n",
    "\n",
    "    showPlot(plot_losses)"
   ]
  },
  {
   "cell_type": "markdown",
   "metadata": {},
   "source": [
    "# Plotting"
   ]
  },
  {
   "cell_type": "code",
   "execution_count": 27,
   "metadata": {},
   "outputs": [],
   "source": [
    "#####################################################################\n",
    "# Plotting results\n",
    "# ^^^^^^^^^^^^^^^^\n",
    "#\n",
    "# Plotting is done with matplotlib, using the array of loss values\n",
    "# ``plot_losses`` saved while training.\n",
    "\n",
    "import matplotlib.pyplot as plt\n",
    "plt.switch_backend('agg')\n",
    "import matplotlib.ticker as ticker\n",
    "import numpy as np\n",
    "%matplotlib inline\n",
    "\n",
    "def showPlot(points):\n",
    "    plt.figure()\n",
    "    fig, ax = plt.subplots()\n",
    "    # this locator puts ticks at regular intervals\n",
    "    loc = ticker.MultipleLocator(base=0.2)\n",
    "    ax.yaxis.set_major_locator(loc)\n",
    "    plt.plot(points)"
   ]
  },
  {
   "cell_type": "markdown",
   "metadata": {},
   "source": [
    "# Evaluation "
   ]
  },
  {
   "cell_type": "code",
   "execution_count": 33,
   "metadata": {},
   "outputs": [],
   "source": [
    "#####################################################################\n",
    "# Evaluation\n",
    "# ^^^^^^^^^^\n",
    "\n",
    "def evaluate(encoder, decoder, sentence, max_length=MAX_INPUT_LENGTH+1):\n",
    "    with torch.no_grad():\n",
    "        input_tensor = tensorFromSample(input_vocab, sentence)\n",
    "        input_length = input_tensor.size()[0]\n",
    "        encoder_hidden = encoder.initHidden()\n",
    "\n",
    "        encoder_outputs = torch.zeros(max_length, encoder.hidden_size, device=device)\n",
    "\n",
    "        for ei in range(input_length):\n",
    "            encoder_output, encoder_hidden = encoder(input_tensor[ei],\n",
    "                                                     encoder_hidden)\n",
    "            encoder_outputs[ei] += encoder_output[0, 0]\n",
    "\n",
    "        decoder_input = torch.tensor([[SOS_token]], device=device)  # SOS\n",
    "\n",
    "        decoder_hidden = encoder_hidden\n",
    "\n",
    "        decoded_words = []\n",
    "        decoder_attentions = torch.zeros(max_length, max_length)\n",
    "        \n",
    "        #best = beam_search(decoder,decoder_input, decoder_hidden, encoder_outputs,20,30)\n",
    "        \n",
    "        for di in range(25):\n",
    "            decoder_output, decoder_hidden, decoder_attention = decoder(\n",
    "                decoder_input, decoder_hidden, encoder_outputs) \n",
    "            \n",
    "            #decoder_attentions[di] = decoder_attention.data\n",
    "            topv, topi = decoder_output.data.topk(1)\n",
    "            if topi.item() == EOS_token:\n",
    "                if (di)<14:\n",
    "                    pass\n",
    "                decoded_words.append('eos')\n",
    "                break\n",
    "            else:\n",
    "                decoded_words.append(output_vocab.index2word[topi.item()]) #glove.itos\n",
    "                \n",
    "            #input_text.index2word\n",
    "\n",
    "            decoder_input = topi.squeeze().detach()\n",
    "             \n",
    "            #decoded_words.append(input_text.index2word[i.item()])\n",
    "        return decoded_words#, decoder_attentions[:di + 1]"
   ]
  },
  {
   "cell_type": "code",
   "execution_count": 34,
   "metadata": {},
   "outputs": [],
   "source": [
    "def evaluateRandomly(encoder, decoder, pairs, n=10):\n",
    "    for i in range(n):\n",
    "        pair = random.choice(pairs)\n",
    "        print('>', ' '.join(pair[0]))\n",
    "        print('=', ' '.join(pair[1]))\n",
    "        output_words = evaluate(encoder, decoder, pair[0])#, attentions\n",
    "        output_sentence = ' '.join(output_words)\n",
    "        print('<', output_sentence)\n",
    "        print('')"
   ]
  },
  {
   "cell_type": "markdown",
   "metadata": {},
   "source": [
    "# Start training"
   ]
  },
  {
   "cell_type": "code",
   "execution_count": 30,
   "metadata": {},
   "outputs": [],
   "source": [
    "hidden_size = 300 #glove.dim\n",
    "encoder1 = EncoderRNN(input_vocab.n_words, hidden_size).to(device)\n",
    "attn_decoder1 = AttnDecoderRNN(hidden_size, output_vocab.n_words, dropout_p=0.1).to(device)"
   ]
  },
  {
   "cell_type": "code",
   "execution_count": 31,
   "metadata": {},
   "outputs": [
    {
     "data": {
      "text/plain": [
       "<Figure size 432x288 with 0 Axes>"
      ]
     },
     "metadata": {},
     "output_type": "display_data"
    },
    {
     "data": {
      "image/png": "[encoded data removed]",
      "text/plain": [
       "<Figure size 432x288 with 1 Axes>"
      ]
     },
     "metadata": {},
     "output_type": "display_data"
    }
   ],
   "source": [
    "trainIters(encoder1, attn_decoder1, 10000*3*3, print_every=1000, learning_rate=0.001, reduce=10000*3)"
   ]
  },
  {
   "cell_type": "code",
   "execution_count": 38,
   "metadata": {},
   "outputs": [],
   "source": [
    "evaluateRandomly(encoder1, attn_decoder1, train_pairs)"
   ]
  },
  {
   "cell_type": "markdown",
   "metadata": {},
   "source": [
    "# Rouge-1 precision recall score"
   ]
  },
  {
   "cell_type": "code",
   "execution_count": 39,
   "metadata": {},
   "outputs": [],
   "source": [
    "def rouge(evaluate):\n",
    "    precisions = []\n",
    "    recalls = []\n",
    "    scores = []\n",
    "    for pair in test_pairs:\n",
    "        candidate  = evaluate(encoder1, attn_decoder1, pair[0])#, attentions\n",
    "        #reference_p = pair[1].copy()\n",
    "        #reference_r = pair[1].copy()\n",
    "\n",
    "        reference_p = list(pair[1])\n",
    "        reference_r = list(pair[1])\n",
    "        \n",
    "        count_p = 0.0\n",
    "        count_r = 0.0\n",
    "\n",
    "        for i in candidate[1:-1]:\n",
    "            if i in reference_p[1:-1]:\n",
    "                count_p+=1.00\n",
    "                reference_p.remove(i)\n",
    "        if len(candidate[1:-1])>0:\n",
    "            precision = count_p/len(candidate[1:-1]) #precision\n",
    "            precisions.append(precision) \n",
    "\n",
    "        for j in reference_r[1:-1]:\n",
    "            if j in candidate[1:-1]:\n",
    "                count_r+=1.00  \n",
    "\n",
    "        recall = count_r/len(reference_r[1:-1]) #recall\n",
    "        recalls.append(recall) \n",
    "    return precisions, recalls"
   ]
  },
  {
   "cell_type": "markdown",
   "metadata": {},
   "source": [
    "# Evaluating without Beam Search"
   ]
  },
  {
   "cell_type": "code",
   "execution_count": 40,
   "metadata": {},
   "outputs": [],
   "source": [
    "precisions, recalls = rouge(evaluate)"
   ]
  },
  {
   "cell_type": "code",
   "execution_count": 41,
   "metadata": {},
   "outputs": [],
   "source": [
    "pr = np.mean(np.asarray(precisions))\n",
    "print(pr)\n",
    "rec = np.mean(np.asarray(recalls))\n",
    "print(rec)"
   ]
  },
  {
   "cell_type": "code",
   "execution_count": 42,
   "metadata": {},
   "outputs": [
    {
     "data": {
      "text/plain": [
       "0.07852052556381142"
      ]
     },
     "execution_count": 42,
     "metadata": {},
     "output_type": "execute_result"
    }
   ],
   "source": [
    "score = pr*rec*2/(pr+rec)\n",
    "score"
   ]
  },
  {
   "cell_type": "markdown",
   "metadata": {},
   "source": [
    "# Evaluating Beam Search"
   ]
  },
  {
   "cell_type": "code",
   "execution_count": 37,
   "metadata": {},
   "outputs": [
    {
     "data": {
      "text/plain": [
       "0.099703657667497"
      ]
     },
     "execution_count": 37,
     "metadata": {},
     "output_type": "execute_result"
    }
   ],
   "source": [
    "precisions, recalls = rouge(beam_evaluate)\n",
    "pr = np.mean(np.asarray(precisions))\n",
    "print(pr)\n",
    "rec = np.mean(np.asarray(recalls))\n",
    "print(rec)\n",
    "\n",
    "score = pr*rec*2/(pr+rec)\n",
    "score"
   ]
  },
  {
   "cell_type": "markdown",
   "metadata": {},
   "source": [
    "# Visualising Attention"
   ]
  },
  {
   "cell_type": "code",
   "execution_count": 60,
   "metadata": {},
   "outputs": [
    {
     "data": {
      "text/plain": [
       "<matplotlib.image.AxesImage at 0x7fbf1c2dc210>"
      ]
     },
     "execution_count": 60,
     "metadata": {},
     "output_type": "execute_result"
    },
    {
     "data": {
      "image/png": "[encoded data removed]",
      "text/plain": [
       "<Figure size 1152x248.471 with 1 Axes>"
      ]
     },
     "metadata": {},
     "output_type": "display_data"
    }
   ],
   "source": [
    "test_input = \"sunday night's public proclamation that sen. ted cruz of texas and ohio gov. john kasich had reached a truce aimed at ceding states to one another was not predicted but also entirely predictable. with his failure to gain any delegates in new york, cruz is no longer able .\"\n",
    "test_input_norm = [normalizeString(test) for test in test_input]  \n",
    "test_input_final = [test[:MAX_INPUT_LENGTH] for test in test_input_norm]\n",
    "\n",
    "output_words, attentions = evaluate(encoder1, attn_decoder1, test_input)\n",
    "plt.matshow(attentions.numpy())"
   ]
  },
  {
   "cell_type": "code",
   "execution_count": 79,
   "metadata": {},
   "outputs": [],
   "source": [
    "def showAttention(input_text, output_words, attentions):\n",
    "    # Set up figure with colorbar\n",
    "    fig = plt.figure()\n",
    "    ax = fig.add_subplot(111)\n",
    "    cax = ax.matshow(attentions.numpy(), cmap='bone')\n",
    "    fig.colorbar(cax)\n",
    "\n",
    "    # Set up axes\n",
    "    ax.set_xticklabels([''] + input_text.split(' ') +\n",
    "                       ['<EOS>'], rotation=90)\n",
    "    ax.set_yticklabels([''] + output_words)\n",
    "\n",
    "    # Show label\n",
    "    ax.xaxis.set_major_locator(ticker.MultipleLocator(1))\n",
    "    ax.yaxis.set_major_locator(ticker.MultipleLocator(1))\n",
    "    \n",
    "    plt.show()\n",
    "\n",
    "def evaluateAndShowAttention(input_text):\n",
    "    output_words, attentions = evaluate(\n",
    "        encoder1, attn_decoder1, input_text)\n",
    "    print('input =', input_text)\n",
    "    print('output =', ' '.join(output_words))\n",
    "    showAttention(input_text, output_words, attentions)"
   ]
  },
  {
   "cell_type": "code",
   "execution_count": null,
   "metadata": {},
   "outputs": [],
   "source": [
    "evaluateAndShowAttention(test_input)"
   ]
  },
  {
   "cell_type": "markdown",
   "metadata": {},
   "source": [
    "# Save the model"
   ]
  },
  {
   "cell_type": "code",
   "execution_count": null,
   "metadata": {},
   "outputs": [],
   "source": [
    "torch.save(encoder1.state_dict(), 'encoder.pth')\n",
    "torch.save(attn_decoder1.state_dict(), 'attn_decoder.pth')"
   ]
  },
  {
   "cell_type": "markdown",
   "metadata": {},
   "source": [
    "# Load the model"
   ]
  },
  {
   "cell_type": "code",
   "execution_count": null,
   "metadata": {},
   "outputs": [],
   "source": [
    "encoder1.load_state_dict(torch.load('encoder.pth'))\n",
    "attn_decoder1.load_state_dict(torch.load('attn_decoder.pth'))"
   ]
  },
  {
   "cell_type": "markdown",
   "metadata": {},
   "source": [
    "# Model Summary"
   ]
  },
  {
   "cell_type": "code",
   "execution_count": 67,
   "metadata": {},
   "outputs": [],
   "source": [
    "print(encoder1)"
   ]
  },
  {
   "cell_type": "code",
   "execution_count": 69,
   "metadata": {},
   "outputs": [],
   "source": [
    "print(attn_decoder1)"
   ]
  },
  {
   "cell_type": "code",
   "execution_count": null,
   "metadata": {},
   "outputs": [],
   "source": []
  }
 ],
 "metadata": {
  "kernelspec": {
   "display_name": "Python 2",
   "language": "python",
   "name": "python2"
  },
  "language_info": {
   "codemirror_mode": {
    "name": "ipython",
    "version": 2
   },
   "file_extension": ".py",
   "mimetype": "text/x-python",
   "name": "python",
   "nbconvert_exporter": "python",
   "pygments_lexer": "ipython2",
   "version": "2.7.15"
  }
 },
 "nbformat": 4,
 "nbformat_minor": 2
}
